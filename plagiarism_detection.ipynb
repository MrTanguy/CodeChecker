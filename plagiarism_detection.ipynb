{
 "cells": [
  {
   "cell_type": "code",
   "execution_count": 96,
   "metadata": {},
   "outputs": [
    {
     "name": "stdout",
     "output_type": "stream",
     "text": [
      "['var x = math.floor(math.random() * 5);\\nbeed = 2\\n\\nvar kek = \"kek\";\\n\\nif(x==1) {\\n    b = 3\\n} else {\\n    b = 1\\n}\\n\\n\\n// DDDDDDDDDDDDdd\\n/* HEHEBOY \\n\\n\\n\\nSDqsd\\n*/', 'Content3\\nbeed = 5\\n// Normal Commentary', 'yes\\n// Normal Commentary', 'HEHE']\n"
     ]
    }
   ],
   "source": [
    "import os\n",
    "from dotenv import load_dotenv\n",
    "from numpy import vectorize \n",
    "from sklearn.feature_extraction.text import TfidfVectorizer\n",
    "from sklearn.metrics.pairwise import cosine_similarity\n",
    "import plotly.graph_objects as go\n",
    "import string\n",
    "\n",
    "s=\"\"\n",
    "sample_files = []\n",
    "load_dotenv()\n",
    "\n",
    "Space_Cleared_Exts = os.environ[\"EXTENSIONS\"].replace(\" \", \"\")\n",
    "# ------------------------------------------------------------------\n",
    "# Parcourt tout les fichiers finissant avec les extensions dans .env\n",
    "# ------------------------------------------------------------------\n",
    "for ext in os.environ[\"EXTENSIONS\"] :\n",
    "    if(ext==\",\") :\n",
    "        ext=\"[\"\n",
    "        for doc in os.listdir(\"./FilesToTest/\") :\n",
    "            if doc.endswith(str(s)) :\n",
    "                sample_files.append(''.join(doc))\n",
    "        s = \"\"\n",
    "    if(ext!=\"[\" and ext!=\"]\") :\n",
    "        s+=ext\n",
    "for doc in os.listdir(\"./FilesToTest/\") :\n",
    "    if doc.endswith(str(s.replace(\" \",\"\"))) :\n",
    "        sample_files.append(''.join(doc))\n",
    " \n",
    "sample_contents = [open(\"./FilesToTest/\"+File).read() for File in sample_files]\n",
    "print(sample_contents)"
   ]
  },
  {
   "cell_type": "code",
   "execution_count": 97,
   "metadata": {},
   "outputs": [],
   "source": [
    "Commentary_Content = []\n",
    "Var_Content = []\n",
    "Equal_Content = []\n",
    "Loop_Content = []\n",
    "\n",
    "Sample_Content_Double = []\n",
    "Sample_Content_Without_VarComms = []\n",
    "Sample_Content_Without_VarCommsLoop =  []\n",
    "Sample_Content_Without_VarCommsLoopEq = []\n",
    "\n",
    "# ---------------------------------------------------------------------------------\n",
    "# Parcourt notre texte et enleve les commentaires si le texte vient d'un fichier JS\n",
    "# ---------------------------------------------------------------------------------\n",
    "\n",
    "def PurgeJSCommentary(word) :\n",
    "    Sample_ContentsBis = sample_contents[word].splitlines(True)\n",
    "    Sample_Content_SubFile = []\n",
    "    Commentary_SubFile = []\n",
    "    Long_Comment = False\n",
    "    for lines in Sample_ContentsBis :\n",
    "        if(Long_Comment) :\n",
    "            Commentary_SubFile.append(lines)\n",
    "        if(\"//\" in lines) :\n",
    "            Commentary_SubFile.append(lines)\n",
    "        if(\"/*\" in lines):\n",
    "            Long_Comment = True\n",
    "            Commentary_SubFile.append(lines)\n",
    "        if(\"*/\" in lines):\n",
    "            Long_Comment = False\n",
    "            Commentary_SubFile.append(lines) \n",
    "        if(\"//\" not in lines and \"/*\" not in lines and \"*/\" not in lines and Long_Comment == False):\n",
    "            Sample_Content_SubFile.append(lines)\n",
    "    Sample_Content_Double.append(Sample_Content_SubFile)\n",
    "    Commentary_Content.append(Commentary_SubFile)"
   ]
  },
  {
   "cell_type": "code",
   "execution_count": 98,
   "metadata": {},
   "outputs": [],
   "source": [
    "def PurgeJSVariables(index) :\n",
    "    Sample_Content_SubFile = []\n",
    "    Var_SubFile = []\n",
    "    for lines in Sample_Content_Double[index] :\n",
    "        if(\"var\" in lines) :\n",
    "            Var_SubFile.append(lines)\n",
    "        else :\n",
    "            Sample_Content_SubFile.append(lines)\n",
    "    Sample_Content_Without_VarComms.append(Sample_Content_SubFile)\n",
    "    Var_Content.append(Var_SubFile)"
   ]
  },
  {
   "cell_type": "code",
   "execution_count": 99,
   "metadata": {},
   "outputs": [],
   "source": [
    "def PurgeJSLoops(index) :\n",
    "    Sample_Content_SubFile = []\n",
    "    Loop_SubFile = []\n",
    "    IsLoop = False\n",
    "    for lines in Sample_Content_Without_VarComms[index] :\n",
    "        if(\"}\" in lines) :\n",
    "            Loop_SubFile.append(lines)\n",
    "            IsLoop = False\n",
    "        if(IsLoop) :\n",
    "            Loop_SubFile.append(lines)\n",
    "        if(\"{\" in lines) :\n",
    "            Loop_SubFile.append(lines)\n",
    "            IsLoop = True\n",
    "        if(\"}\" not in lines and \"{\" not in lines and IsLoop is False) :\n",
    "            Sample_Content_SubFile.append(lines)\n",
    "    Sample_Content_Without_VarCommsLoop.append(Sample_Content_SubFile)\n",
    "    Loop_Content.append(Loop_SubFile)"
   ]
  },
  {
   "cell_type": "code",
   "execution_count": 100,
   "metadata": {},
   "outputs": [],
   "source": [
    "def PurgeJSEquals(index) :\n",
    "    Sample_Content_SubFile =[]\n",
    "    Equal_SubFile = []\n",
    "    for lines in Sample_Content_Without_VarCommsLoop[index] :\n",
    "        if(\"=\" in lines) :\n",
    "            Equal_SubFile.append(lines)\n",
    "        else :\n",
    "            Sample_Content_SubFile.append(lines)\n",
    "    Sample_Content_Without_VarCommsLoopEq.append(Sample_Content_SubFile)\n",
    "    Equal_Content.append(Equal_SubFile)"
   ]
  },
  {
   "cell_type": "code",
   "execution_count": 101,
   "metadata": {},
   "outputs": [],
   "source": [
    "    for i in range(len(sample_files)) :\n",
    "        if(sample_files[i].endswith(\".js\")) :\n",
    "            PurgeJSCommentary(i)\n",
    "            PurgeJSVariables(i)\n",
    "            PurgeJSLoops(i)\n",
    "            PurgeJSEquals(i)"
   ]
  },
  {
   "cell_type": "code",
   "execution_count": 102,
   "metadata": {},
   "outputs": [
    {
     "name": "stdout",
     "output_type": "stream",
     "text": [
      "Commentary Content : \n",
      "\n",
      "[['// DDDDDDDDDDDDdd\\n', '/* HEHEBOY \\n', '\\n', '\\n', '\\n', 'SDqsd\\n', '*/', '*/'], ['// Normal Commentary'], ['// Normal Commentary']]\n",
      "\n",
      "Var Content : \n",
      "\n",
      "[['var x = math.floor(math.random() * 5);\\n', 'var kek = \"kek\";\\n'], [], []]\n",
      "\n",
      "Equal Content : \n",
      "\n",
      "[['beed = 2\\n'], ['beed = 5\\n'], []]\n",
      "\n",
      "Loop Content : \n",
      "\n",
      "[['if(x==1) {\\n', '    b = 3\\n', '} else {\\n', '} else {\\n', '    b = 1\\n', '}\\n'], [], []]\n"
     ]
    }
   ],
   "source": [
    "All_Content = []\n",
    "All_Content_Name = []\n",
    "\n",
    "\n",
    "print(\"Commentary Content : \\n\")\n",
    "print(Commentary_Content)\n",
    "print(\"\\nVar Content : \\n\")\n",
    "print(Var_Content)\n",
    "print(\"\\nEqual Content : \\n\")\n",
    "print(Equal_Content)\n",
    "print(\"\\nLoop Content : \\n\")\n",
    "print(Loop_Content)\n",
    "\n",
    "All_Content.append(Commentary_Content)\n",
    "All_Content.append(Var_Content)\n",
    "All_Content.append(Equal_Content)\n",
    "All_Content.append(Loop_Content)\n",
    "\n",
    "All_Content_Name.append(\"Commentary\")\n",
    "All_Content_Name.append(\"Var\")\n",
    "All_Content_Name.append(\"Equal\")\n",
    "All_Content_Name.append(\"Loop\")\n",
    "\n"
   ]
  },
  {
   "cell_type": "code",
   "execution_count": 103,
   "metadata": {},
   "outputs": [
    {
     "data": {
      "text/plain": [
       "''"
      ]
     },
     "execution_count": 103,
     "metadata": {},
     "output_type": "execute_result"
    }
   ],
   "source": [
    "def tokenize() :\n",
    "    return \"\"\n",
    "tokenize()"
   ]
  },
  {
   "cell_type": "code",
   "execution_count": 104,
   "metadata": {},
   "outputs": [],
   "source": [
    "# vectorize = lambda Text: TfidfVectorizer().fit_transform(Text).toarray()\n",
    "\n",
    "def vectorize(Text) :\n",
    "    return TfidfVectorizer().fit_transform(Text).toarray()\n",
    "\n",
    "# similarity = lambda doc1, doc2: cosine_similarity([doc1, doc2])\n",
    "\n",
    "def similarity(doc1,doc2) :\n",
    "    return cosine_similarity([doc1,doc2])"
   ]
  },
  {
   "cell_type": "code",
   "execution_count": 105,
   "metadata": {},
   "outputs": [],
   "source": [
    "\n",
    "def check_plagiarism(TestFiles):\n",
    "    vectors = vectorize(TestFiles)\n",
    "    s_vectors = list(zip(sample_files, vectors))\n",
    "    results = set()\n",
    "    for sample_a, text_vector_a in s_vectors:\n",
    "        new_vectors = s_vectors.copy()\n",
    "        current_index = new_vectors.index((sample_a, text_vector_a))\n",
    "        del new_vectors[current_index]\n",
    "        for sample_b, text_vector_b in new_vectors:\n",
    "            sim_score = similarity(text_vector_a, text_vector_b)[0][1]\n",
    "            sample_pair = sorted((sample_a, sample_b))\n",
    "            score = sample_pair[0], sample_pair[1], sim_score\n",
    "            results.add(score)\n",
    "    return results"
   ]
  },
  {
   "cell_type": "code",
   "execution_count": 106,
   "metadata": {},
   "outputs": [
    {
     "name": "stdout",
     "output_type": "stream",
     "text": [
      "\u001b[97m\n",
      "Commentary :\n",
      "\u001b[32m('no.js', 'testingfile.js', 0.0)\n",
      "\u001b[32m('no.js', 'yes.js', 0.0)\n",
      "\u001b[31m('testingfile.js', 'yes.js', 1.0000000000000002)\n",
      "\u001b[97m['// DDDDDDDDDDDDdd\\n/* HEHEBOY \\n\\n\\n\\nSDqsd\\n*/*/', '// Normal Commentary', '// Normal Commentary']\n",
      "\u001b[97m\n",
      "Var :\n",
      "\u001b[32m('no.js', 'testingfile.js', 0.0)\n",
      "\u001b[32m('no.js', 'yes.js', 0.0)\n",
      "\u001b[32m('testingfile.js', 'yes.js', 0.0)\n",
      "\u001b[97m\n",
      "Equal :\n",
      "\u001b[32m('testingfile.js', 'yes.js', 0.0)\n",
      "\u001b[31m('no.js', 'testingfile.js', 1.0)\n",
      "\u001b[97m['beed = 2\\n', 'beed = 5\\n', '']\n",
      "\u001b[32m('no.js', 'yes.js', 0.0)\n",
      "\u001b[97m\n",
      "Loop :\n",
      "\u001b[32m('no.js', 'testingfile.js', 0.0)\n",
      "\u001b[32m('no.js', 'yes.js', 0.0)\n",
      "\u001b[32m('testingfile.js', 'yes.js', 0.0)\n"
     ]
    }
   ],
   "source": [
    "\n",
    "import matplotlib.pyplot as plt\n",
    "from sty import fg\n",
    "\n",
    "def ExecutePlagiarismChecker(ArrayToTest):\n",
    "    for array_index in range(len(ArrayToTest)):\n",
    "        temp_text = \"\"\n",
    "        for item_index in range(len(ArrayToTest[array_index])):\n",
    "            temp_text += ArrayToTest[array_index][item_index]\n",
    "        ArrayToTest[array_index] = temp_text\n",
    "    return check_plagiarism(ArrayToTest)\n",
    "Scoring = 0\n",
    "\n",
    "for index in range(len(All_Content)) : \n",
    "    print(fg.white+\"\\n\"+All_Content_Name[index]+\" :\")  \n",
    "    for score in ExecutePlagiarismChecker(All_Content[index]) :\n",
    "        result = (','.join(map(str,(score)))).split(',')\n",
    "        if(float(result[2])>=0.6) :\n",
    "            color = fg.red\n",
    "        else :\n",
    "            color = fg.green\n",
    "        print(color+str(score))\n",
    "        if(float(result[2])>=0.6) :\n",
    "            print(fg.white+str(All_Content[index]))\n"
   ]
  }
 ],
 "metadata": {
  "interpreter": {
   "hash": "916dbcbb3f70747c44a77c7bcd40155683ae19c65e1c03b4aa3499c5328201f1"
  },
  "kernelspec": {
   "display_name": "Python 3.8.10 64-bit",
   "language": "python",
   "name": "python3"
  },
  "language_info": {
   "codemirror_mode": {
    "name": "ipython",
    "version": 3
   },
   "file_extension": ".py",
   "mimetype": "text/x-python",
   "name": "python",
   "nbconvert_exporter": "python",
   "pygments_lexer": "ipython3",
   "version": "3.9.10"
  },
  "orig_nbformat": 4
 },
 "nbformat": 4,
 "nbformat_minor": 2
}
